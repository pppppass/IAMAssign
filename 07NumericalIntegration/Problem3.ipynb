{
 "cells": [
  {
   "cell_type": "code",
   "execution_count": null,
   "metadata": {},
   "outputs": [],
   "source": [
    "import math\n",
    "\n",
    "import numpy"
   ]
  },
  {
   "cell_type": "code",
   "execution_count": null,
   "metadata": {},
   "outputs": [],
   "source": [
    "def func(x):\n",
    "    return 4.0 / (1 + x**2)"
   ]
  },
  {
   "cell_type": "code",
   "execution_count": null,
   "metadata": {},
   "outputs": [],
   "source": [
    "def error(quad):\n",
    "    return abs(math.pi - quad)"
   ]
  },
  {
   "cell_type": "code",
   "execution_count": null,
   "metadata": {},
   "outputs": [],
   "source": [
    "def comp_trap(n):\n",
    "    coef = numpy.zeros(n+1)\n",
    "    coef[0] = 1.0\n",
    "    coef[1:n] = 2.0\n",
    "    coef[n] = 1.0\n",
    "    coef = coef / coef.sum()\n",
    "    samp = func(numpy.linspace(0.0, 1.0, n+1))\n",
    "    quad = samp.dot(coef)\n",
    "    return quad"
   ]
  },
  {
   "cell_type": "code",
   "execution_count": null,
   "metadata": {},
   "outputs": [],
   "source": [
    "def comp_simpson(n):\n",
    "    coef = numpy.zeros(2*n+1)\n",
    "    coef[0] = 1.0\n",
    "    coef[1:2*n:2] = 4.0\n",
    "    coef[2:2*n:2] = 2.0\n",
    "    coef[2*n] = 1.0\n",
    "    coef = coef / coef.sum()\n",
    "    samp = func(numpy.linspace(0.0, 1.0, 2*n+1))\n",
    "    quad = samp.dot(coef)\n",
    "    return quad"
   ]
  },
  {
   "cell_type": "code",
   "execution_count": null,
   "metadata": {},
   "outputs": [],
   "source": [
    "def comp_romberg(n, k):\n",
    "    coef = numpy.zeros(2**(k-1) + 1)\n",
    "    coef[0] = 1.0\n",
    "    coef[2**(k-1)] = 1.0\n",
    "    for i in range(k-1):\n",
    "        finer = numpy.concatenate([coef[::2], coef[2::2]])\n",
    "        finer[2**(k-2)] *= 2.0\n",
    "        coef = 2.0**(2*i+1) * finer - coef\n",
    "    coef = numpy.concatenate([coef] + [coef[1:]]*(n-1))\n",
    "    coef[2**(k-1):2**(k-1)*n:2**(k-1)] *= 2\n",
    "    coef = coef / coef.sum()\n",
    "    samp = func(numpy.linspace(0.0, 1.0, 2**(k-1)*n + 1))\n",
    "    quad = samp.dot(coef)\n",
    "    return quad"
   ]
  },
  {
   "cell_type": "code",
   "execution_count": null,
   "metadata": {},
   "outputs": [],
   "source": [
    "def comp_gauss(n):\n",
    "    coef = numpy.ones(2*n)\n",
    "    coef = coef / coef.sum()\n",
    "    full = numpy.linspace(0.0, 1.0, n+1)[:-1]\n",
    "    node = numpy.zeros(2*n)\n",
    "    node[0::2] = full + (1.0 - 1.0 / math.sqrt(3.0)) / 2.0 / n \n",
    "    node[1::2] = full + (1.0 + 1.0 / math.sqrt(3.0)) / 2.0 / n \n",
    "    samp = func(node)\n",
    "    quad = samp.dot(coef)\n",
    "    return quad"
   ]
  },
  {
   "cell_type": "code",
   "execution_count": null,
   "metadata": {},
   "outputs": [],
   "source": [
    "def test(n_list):\n",
    "    \n",
    "    err_list = []\n",
    "    \n",
    "    for n in n_list:\n",
    "        \n",
    "        err_list.append([])\n",
    "        err_list[-1].append(error(comp_trap(n)))\n",
    "        err_list[-1].append(error(comp_simpson(n)))\n",
    "        err_list[-1].append(error(comp_romberg(n, 3)))\n",
    "        err_list[-1].append(error(comp_romberg(n, 4)))\n",
    "        err_list[-1].append(error(comp_romberg(n, 5)))\n",
    "        err_list[-1].append(error(comp_gauss(n)))\n",
    "\n",
    "    print(\"\\\\hline\")\n",
    "    for n, row in zip(n_list, err_list):\n",
    "        text = \"{} & \".format(n) + \" & \".join(\"{:.5e}\".format(err) for err in row) + \" \\\\\\\\\"\n",
    "        print(text)\n",
    "        print(\"\\\\hline\")"
   ]
  },
  {
   "cell_type": "code",
   "execution_count": null,
   "metadata": {},
   "outputs": [],
   "source": [
    "test([1, 2, 3, 4, 5, 8, 10, 20, 30, 40, 50])"
   ]
  }
 ],
 "metadata": {
  "kernelspec": {
   "display_name": "Python 3",
   "language": "python",
   "name": "python3"
  },
  "language_info": {
   "codemirror_mode": {
    "name": "ipython",
    "version": 3
   },
   "file_extension": ".py",
   "mimetype": "text/x-python",
   "name": "python",
   "nbconvert_exporter": "python",
   "pygments_lexer": "ipython3",
   "version": "3.6.5"
  }
 },
 "nbformat": 4,
 "nbformat_minor": 2
}
