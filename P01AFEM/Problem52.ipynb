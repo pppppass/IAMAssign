{
 "cells": [
  {
   "cell_type": "code",
   "execution_count": null,
   "metadata": {},
   "outputs": [],
   "source": [
    "import matplotlib as mpl\n",
    "mpl.use(\"pgf\")\n",
    "mpl.rcParams[\"text.usetex\"] = True\n",
    "mpl.rcParams[\"font.family\"] = \"serif\""
   ]
  },
  {
   "cell_type": "code",
   "execution_count": null,
   "metadata": {},
   "outputs": [],
   "source": [
    "import math\n",
    "\n",
    "import numpy\n",
    "from matplotlib import pyplot\n",
    "\n",
    "import utils"
   ]
  },
  {
   "cell_type": "code",
   "execution_count": null,
   "metadata": {},
   "outputs": [],
   "source": [
    "def func(x):\n",
    "    return numpy.exp(-100.0 * (x - 0.5)**2)"
   ]
  },
  {
   "cell_type": "code",
   "execution_count": null,
   "metadata": {},
   "outputs": [],
   "source": [
    "eps = 1e-6\n",
    "alpha_list = [0.1, 0.25, 0.5, 0.7, 0.9, 0.95]\n",
    "table = [[], [], []]"
   ]
  },
  {
   "cell_type": "code",
   "execution_count": null,
   "metadata": {},
   "outputs": [],
   "source": [
    "for alpha in alpha_list:\n",
    "    x = numpy.linspace(0.0, 1.0, 2)\n",
    "    ctr = 0\n",
    "    while True:\n",
    "        eta = utils.error(func, x)\n",
    "        eta_max = numpy.max(eta)\n",
    "        if eta_max > eps:\n",
    "            n = x.shape[0] - 1\n",
    "            x_list = []\n",
    "            for i in range(n):\n",
    "                x_list.append(x[i])\n",
    "                if eta[i] > alpha * eta_max:\n",
    "                    x_list.append((x[i] + x[i+1]) / 2.0)\n",
    "            x_list.append(x[n])\n",
    "            x = numpy.array(x_list)\n",
    "            ctr += 1\n",
    "        else:\n",
    "            break\n",
    "    table[2].append(ctr)\n",
    "    d, l, u = utils.matrix_dirichlet(x)\n",
    "    b = utils.vector_dirichlet(func, x)\n",
    "    utils.solve_chase(d, l, u, b)\n",
    "    table[0].append(x)\n",
    "    table[1].append(b)"
   ]
  },
  {
   "cell_type": "code",
   "execution_count": null,
   "metadata": {},
   "outputs": [],
   "source": [
    "pyplot.figure(figsize=(8.0, 4.5))\n",
    "for i in range(len(alpha_list)):\n",
    "    pyplot.subplot(2, 3, i+1)\n",
    "    x = table[0][i]\n",
    "    v = numpy.hstack([0.0, table[1][i], 0.0])\n",
    "    pyplot.plot(x, v, color=\"C0\", linewidth=0.5)\n",
    "    pyplot.scatter(x, v, s=0.5, color=\"C1\")\n",
    "    pyplot.scatter(x, numpy.zeros_like(v), s=0.5, color=\"C2\")\n",
    "    pyplot.title(\"$ \\\\alpha = ${:.2f}\".format(alpha_list[i]))\n",
    "pyplot.tight_layout()\n",
    "pyplot.savefig(\"Figures/Figure03.pgf\")\n",
    "pyplot.close()"
   ]
  },
  {
   "cell_type": "code",
   "execution_count": null,
   "metadata": {},
   "outputs": [],
   "source": [
    "print(\"HL\")\n",
    "for i in range(len(alpha_list)):\n",
    "    print(\"{:.2f} CR {} CR {} LB\".format(alpha_list[i], table[2][i], table[0][i].shape[0]+1))\n",
    "    print(\"HL\")"
   ]
  }
 ],
 "metadata": {
  "kernelspec": {
   "display_name": "Python 3",
   "language": "python",
   "name": "python3"
  },
  "language_info": {
   "codemirror_mode": {
    "name": "ipython",
    "version": 3
   },
   "file_extension": ".py",
   "mimetype": "text/x-python",
   "name": "python",
   "nbconvert_exporter": "python",
   "pygments_lexer": "ipython3",
   "version": "3.6.5"
  }
 },
 "nbformat": 4,
 "nbformat_minor": 2
}
