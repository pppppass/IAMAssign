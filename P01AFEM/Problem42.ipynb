{
 "cells": [
  {
   "cell_type": "code",
   "execution_count": null,
   "metadata": {},
   "outputs": [],
   "source": [
    "import math\n",
    "\n",
    "import numpy\n",
    "\n",
    "import utils"
   ]
  },
  {
   "cell_type": "code",
   "execution_count": null,
   "metadata": {},
   "outputs": [],
   "source": [
    "def func(x):\n",
    "    return 1.0"
   ]
  },
  {
   "cell_type": "code",
   "execution_count": null,
   "metadata": {},
   "outputs": [],
   "source": [
    "def real_diff(x):\n",
    "    return 1.0 / 2.0 - x"
   ]
  },
  {
   "cell_type": "code",
   "execution_count": null,
   "metadata": {},
   "outputs": [],
   "source": [
    "n_list = [2, 4, 8, 16, 32, 64]\n",
    "table = [[], [], []]"
   ]
  },
  {
   "cell_type": "code",
   "execution_count": null,
   "metadata": {},
   "outputs": [],
   "source": [
    "for n in n_list:\n",
    "    x = numpy.linspace(0.0, 1.0, n+1)\n",
    "    d, l, u = utils.matrix_dirichlet(x)\n",
    "    b = utils.vector_dirichlet(func, x)\n",
    "    utils.solve_chase(d, l, u, b)\n",
    "    table[0].append(x)\n",
    "    table[1].append(b)"
   ]
  },
  {
   "cell_type": "code",
   "execution_count": null,
   "metadata": {},
   "outputs": [],
   "source": [
    "for i in range(len(n_list)):\n",
    "    x = table[0][i]\n",
    "    v = numpy.hstack([0.0, table[1][i], 0.0])\n",
    "    err = 0.0\n",
    "    for i in range(n_list[i]):\n",
    "        err += utils.quadrature(lambda t: (real_diff(t) - (v[i+1] - v[i]) / (x[i+1] - x[i]))**2, x[i], x[i+1])\n",
    "    table[2].append(math.sqrt(err))"
   ]
  },
  {
   "cell_type": "code",
   "execution_count": null,
   "metadata": {},
   "outputs": [],
   "source": [
    "print(\"HL\")\n",
    "for i in range(len(n_list)):\n",
    "    print(\"{0} CR {1:.5e} LB\".format(n_list[i], table[2][i]))\n",
    "    print(\"HL\")"
   ]
  }
 ],
 "metadata": {
  "kernelspec": {
   "display_name": "Python 3",
   "language": "python",
   "name": "python3"
  },
  "language_info": {
   "codemirror_mode": {
    "name": "ipython",
    "version": 3
   },
   "file_extension": ".py",
   "mimetype": "text/x-python",
   "name": "python",
   "nbconvert_exporter": "python",
   "pygments_lexer": "ipython3",
   "version": "3.6.5"
  }
 },
 "nbformat": 4,
 "nbformat_minor": 2
}
