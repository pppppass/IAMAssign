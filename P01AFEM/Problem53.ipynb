{
 "cells": [
  {
   "cell_type": "code",
   "execution_count": null,
   "metadata": {},
   "outputs": [],
   "source": [
    "import matplotlib as mpl\n",
    "mpl.use(\"pgf\")\n",
    "mpl.rcParams[\"text.usetex\"] = True\n",
    "mpl.rcParams[\"font.family\"] = \"serif\""
   ]
  },
  {
   "cell_type": "code",
   "execution_count": null,
   "metadata": {},
   "outputs": [],
   "source": [
    "import math\n",
    "\n",
    "import numpy\n",
    "from matplotlib import pyplot\n",
    "\n",
    "import utils"
   ]
  },
  {
   "cell_type": "code",
   "execution_count": null,
   "metadata": {},
   "outputs": [],
   "source": [
    "def func(x):\n",
    "    return numpy.exp(-100.0 * (x - 0.5)**2)"
   ]
  },
  {
   "cell_type": "code",
   "execution_count": null,
   "metadata": {},
   "outputs": [],
   "source": [
    "eps_list = [1.0e-1, 1.0e-2, 1.0e-3, 1.0e-4, 1.0e-5, 1.0e-6]\n",
    "alpha = 0.5\n",
    "kappa = 1.0e6\n",
    "table = [[], []]"
   ]
  },
  {
   "cell_type": "code",
   "execution_count": null,
   "metadata": {},
   "outputs": [],
   "source": [
    "for eps in eps_list:\n",
    "    x = numpy.linspace(0.0, 1.0, 2)\n",
    "    while True:\n",
    "        eta = utils.error(func, x)\n",
    "        eta_max = numpy.max(eta)\n",
    "        if eta_max > eps:\n",
    "            n = x.shape[0] - 1\n",
    "            x_list = []\n",
    "            for i in range(n):\n",
    "                x_list.append(x[i])\n",
    "                if eta[i] > alpha * eta_max:\n",
    "                    x_list.append((x[i] + x[i+1]) / 2.0)\n",
    "            x_list.append(x[n])\n",
    "            x = numpy.array(x_list)\n",
    "        else:\n",
    "            break\n",
    "    d, l, u = utils.matrix_robin(x, kappa, 0.0)\n",
    "    b = utils.vector_robin(func, x)\n",
    "    utils.solve_chase(d, l, u, b)\n",
    "    table[0].append(x)\n",
    "    table[1].append(b)"
   ]
  },
  {
   "cell_type": "code",
   "execution_count": null,
   "metadata": {},
   "outputs": [],
   "source": [
    "pyplot.figure(figsize=(8.0, 4.5))\n",
    "for i in range(len(eps_list)):\n",
    "    pyplot.subplot(2, 3, i+1)\n",
    "    x = table[0][i]\n",
    "    v = table[1][i]\n",
    "    pyplot.plot(x, v, color=\"C0\", linewidth=0.5)\n",
    "    pyplot.scatter(x, v, s=0.5, color=\"C1\")\n",
    "    pyplot.scatter(x, numpy.zeros_like(v), s=0.5, color=\"C2\")\n",
    "    pyplot.title(\"$ \\\\epsilon = ${:.0e}\".format(eps_list[i]))\n",
    "pyplot.tight_layout()\n",
    "pyplot.savefig(\"Figures/Figure04.pgf\")\n",
    "pyplot.close()"
   ]
  }
 ],
 "metadata": {
  "kernelspec": {
   "display_name": "Python 3",
   "language": "python",
   "name": "python3"
  },
  "language_info": {
   "codemirror_mode": {
    "name": "ipython",
    "version": 3
   },
   "file_extension": ".py",
   "mimetype": "text/x-python",
   "name": "python",
   "nbconvert_exporter": "python",
   "pygments_lexer": "ipython3",
   "version": "3.6.5"
  }
 },
 "nbformat": 4,
 "nbformat_minor": 2
}
