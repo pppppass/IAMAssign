{
 "cells": [
  {
   "cell_type": "code",
   "execution_count": null,
   "metadata": {},
   "outputs": [],
   "source": [
    "import matplotlib as mpl\n",
    "mpl.use(\"pgf\")\n",
    "mpl.rcParams[\"text.usetex\"] = True\n",
    "mpl.rcParams[\"font.family\"] = \"serif\""
   ]
  },
  {
   "cell_type": "code",
   "execution_count": null,
   "metadata": {},
   "outputs": [],
   "source": [
    "import numpy\n",
    "from matplotlib import pyplot\n",
    "\n",
    "import utils"
   ]
  },
  {
   "cell_type": "code",
   "execution_count": null,
   "metadata": {},
   "outputs": [],
   "source": [
    "def func(x):\n",
    "    return 1.0"
   ]
  },
  {
   "cell_type": "code",
   "execution_count": null,
   "metadata": {},
   "outputs": [],
   "source": [
    "n_list = [5, 10, 20, 40, 60, 80]\n",
    "table = [[], []]"
   ]
  },
  {
   "cell_type": "code",
   "execution_count": null,
   "metadata": {},
   "outputs": [],
   "source": [
    "for n in n_list:\n",
    "    x = numpy.linspace(0.0, 1.0, n+1)\n",
    "    d, l, u = utils.matrix_dirichlet(x)\n",
    "    b = utils.vector_dirichlet(func, x)\n",
    "    utils.solve_chase(d, l, u, b)\n",
    "    table[0].append(x)\n",
    "    table[1].append(b)"
   ]
  },
  {
   "cell_type": "code",
   "execution_count": null,
   "metadata": {},
   "outputs": [],
   "source": [
    "pyplot.figure(figsize=(8.0, 4.5))\n",
    "for i in range(len(n_list)):\n",
    "    pyplot.subplot(2, 3, i+1)\n",
    "    x = table[0][i]\n",
    "    v = numpy.hstack([0.0, table[1][i], 0.0])\n",
    "    pyplot.plot(x, v, color=\"C0\", linewidth=0.5)\n",
    "    pyplot.scatter(x, v, s=0.5, color=\"C1\")\n",
    "    pyplot.scatter(x, numpy.zeros_like(v), s=0.5, color=\"C2\")\n",
    "    pyplot.title(\"$ n = {!s} $\".format(n_list[i]))\n",
    "pyplot.tight_layout()\n",
    "pyplot.savefig(\"Figures/Figure01.pgf\")\n",
    "pyplot.close()"
   ]
  }
 ],
 "metadata": {
  "kernelspec": {
   "display_name": "Python 3",
   "language": "python",
   "name": "python3"
  },
  "language_info": {
   "codemirror_mode": {
    "name": "ipython",
    "version": 3
   },
   "file_extension": ".py",
   "mimetype": "text/x-python",
   "name": "python",
   "nbconvert_exporter": "python",
   "pygments_lexer": "ipython3",
   "version": "3.6.5"
  }
 },
 "nbformat": 4,
 "nbformat_minor": 2
}
