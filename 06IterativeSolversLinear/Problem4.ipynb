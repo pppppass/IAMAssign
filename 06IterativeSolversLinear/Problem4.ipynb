{
 "cells": [
  {
   "cell_type": "code",
   "execution_count": null,
   "metadata": {},
   "outputs": [],
   "source": [
    "import numpy"
   ]
  },
  {
   "cell_type": "code",
   "execution_count": null,
   "metadata": {},
   "outputs": [],
   "source": [
    "def gauss_seidel_update(x, a, b):\n",
    "    for i in range(x.shape[0]):\n",
    "        x[i] = (b[i] - numpy.dot(a[i, :i], x[:i]) - numpy.dot(a[i, (i+1):], x[(i+1):])) / a[i, i]\n",
    "    return x"
   ]
  },
  {
   "cell_type": "code",
   "execution_count": null,
   "metadata": {},
   "outputs": [],
   "source": [
    "a = numpy.array([\n",
    "    [1.0, -1.0, 0.0],\n",
    "    [-1.0, 2.0, -1.0],\n",
    "    [0.0, -1.0, 1.0]\n",
    "])"
   ]
  },
  {
   "cell_type": "code",
   "execution_count": null,
   "metadata": {},
   "outputs": [],
   "source": [
    "b = numpy.array([\n",
    "    -1.0,\n",
    "    -1.0,\n",
    "    2.0\n",
    "])"
   ]
  },
  {
   "cell_type": "code",
   "execution_count": null,
   "metadata": {},
   "outputs": [],
   "source": [
    "error = 1.0e-5"
   ]
  },
  {
   "cell_type": "code",
   "execution_count": null,
   "metadata": {},
   "outputs": [],
   "source": [
    "eps_list = [1.0, 1.0e-1, 1.0e-2, 1.0e-3, 1.0e-4, 1.0e-5, 1.0e-6, 1.0e-7]\n",
    "result_list = []"
   ]
  },
  {
   "cell_type": "code",
   "execution_count": null,
   "metadata": {},
   "outputs": [],
   "source": [
    "for eps in eps_list:\n",
    "    \n",
    "    x_star = numpy.array([\n",
    "        (-4.0 - eps) / (3.0 + eps) / (1.0 + eps),\n",
    "        -1.0 / (3.0 + eps),\n",
    "        (5.0 + 2.0*eps) / (3.0 + eps) / (1.0 + eps)\n",
    "    ])\n",
    "    \n",
    "    x = numpy.zeros(3)\n",
    "    ctr = 0\n",
    "    while True:\n",
    "        x = gauss_seidel_update(x, a + eps * numpy.eye(3), b)\n",
    "        ctr += 1\n",
    "        if numpy.linalg.norm(x - x_star) / numpy.linalg.norm(x_star) <= error:\n",
    "            break\n",
    "    \n",
    "    print(\"Eps: {}, ctr: {}\".format(eps, ctr))\n",
    "    result_list.append((eps, ctr))"
   ]
  },
  {
   "cell_type": "code",
   "execution_count": null,
   "metadata": {},
   "outputs": [],
   "source": [
    "print(r\"\\begin{tabular}{|c|c|}\")\n",
    "print(r\"\\hline\")\n",
    "print(r\"$\\epsilon$ & iterations \\\\\")\n",
    "print(r\"\\hline\")\n",
    "for (eps, ctr) in result_list:\n",
    "    print(r\"{:.1e} & {:d} \\\\\".format(eps, ctr))\n",
    "    print(r\"\\hline\")\n",
    "print(r\"\\end{tabular}\")"
   ]
  }
 ],
 "metadata": {
  "kernelspec": {
   "display_name": "Python 3",
   "language": "python",
   "name": "python3"
  },
  "language_info": {
   "codemirror_mode": {
    "name": "ipython",
    "version": 3
   },
   "file_extension": ".py",
   "mimetype": "text/x-python",
   "name": "python",
   "nbconvert_exporter": "python",
   "pygments_lexer": "ipython3",
   "version": "3.6.5"
  }
 },
 "nbformat": 4,
 "nbformat_minor": 2
}
