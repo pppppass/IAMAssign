{
 "cells": [
  {
   "cell_type": "code",
   "execution_count": null,
   "metadata": {},
   "outputs": [],
   "source": [
    "import math\n",
    "import bisect\n",
    "\n",
    "import numpy\n",
    "import scipy.optimize\n",
    "import sympy"
   ]
  },
  {
   "cell_type": "code",
   "execution_count": null,
   "metadata": {},
   "outputs": [],
   "source": [
    "sympy.init_printing()"
   ]
  },
  {
   "cell_type": "code",
   "execution_count": null,
   "metadata": {},
   "outputs": [],
   "source": [
    "x = sympy.Symbol(\"x\")"
   ]
  },
  {
   "cell_type": "code",
   "execution_count": null,
   "metadata": {},
   "outputs": [],
   "source": [
    "def mat_integer_direct(num, deg):\n",
    "    mat = numpy.fromfunction(lambda x, y: y**x, (deg+1, num+1), dtype=numpy.int64)\n",
    "    int_ = numpy.fromfunction(lambda x: num**(x+1) / (x+1), (deg+1,), dtype=numpy.int64)\n",
    "    return mat, int_"
   ]
  },
  {
   "cell_type": "code",
   "execution_count": null,
   "metadata": {},
   "outputs": [],
   "source": [
    "def mat_interval_direct(num, deg):\n",
    "    mat = numpy.fromfunction(lambda x, y: (2.0 * y / num - 1.0)**x, (deg+1, num+1))\n",
    "    int_ = numpy.fromfunction(lambda x: 2.0 / (x+1), (deg+1,))\n",
    "    int_[1::2] = 0.0\n",
    "    return mat, int_"
   ]
  },
  {
   "cell_type": "code",
   "execution_count": null,
   "metadata": {},
   "outputs": [],
   "source": [
    "cheb_list = [sympy.Integer(1), x]\n",
    "cheb_int = [2.0, 0.0]\n",
    "\n",
    "def mat_interval_cheb(num, deg):\n",
    "    mat = numpy.zeros((deg+1, num+1))\n",
    "    int_ = numpy.zeros((deg+1,))\n",
    "    for i in range(deg+1):\n",
    "        for j in range(num+1):\n",
    "            theta = math.acos(2.0 * j / num - 1.0)\n",
    "            val = math.cos(theta * i)\n",
    "            mat[i, j] = val\n",
    "    while len(cheb_list) < deg+1:\n",
    "        cheb = (2*x * cheb_list[-1] - cheb_list[-2]).expand()\n",
    "        int__ = float(sympy.integrate(cheb, (x, -1, 1)))\n",
    "        cheb_list.append(cheb)\n",
    "        cheb_int.append(int__)\n",
    "    for i in range(deg+1):\n",
    "        int_[i] = cheb_int[i]\n",
    "    return mat, int_"
   ]
  },
  {
   "cell_type": "code",
   "execution_count": null,
   "metadata": {},
   "outputs": [],
   "source": [
    "now_deg = 1\n",
    "flag = False\n",
    "\n",
    "deg_list = [0]\n",
    "\n",
    "for num in range(1, 200):\n",
    "    while True:\n",
    "        mat, int_ = mat_interval_cheb(num, now_deg+2)\n",
    "        res = scipy.optimize.linprog(\n",
    "            numpy.zeros(num+1),\n",
    "            -numpy.eye(num+1),\n",
    "            numpy.zeros(num+1),\n",
    "            mat,\n",
    "            int_,\n",
    "        )\n",
    "        if res.success:\n",
    "            now_deg += 2\n",
    "        else:\n",
    "            break\n",
    "    deg_list.append(now_deg)"
   ]
  },
  {
   "cell_type": "code",
   "execution_count": null,
   "metadata": {},
   "outputs": [],
   "source": [
    "print(\"\\\\hline\")\n",
    "text = \" & \".join(str(i) for i in range(1, 11)) + \" \\\\\\\\\"\n",
    "print(text)\n",
    "print(\"\\\\hline\")\n",
    "text = \" & \".join(str(i) for i in deg_list[1:11]) + \" \\\\\\\\\"\n",
    "print(text)\n",
    "print(\"\\\\hline\")\n",
    "text = \" & \".join(str(i) for i in range(11, 21)) + \" \\\\\\\\\"\n",
    "print(text)\n",
    "print(\"\\\\hline\")\n",
    "text = \" & \".join(str(i) for i in deg_list[11:21]) + \" \\\\\\\\\"\n",
    "print(text)\n",
    "print(\"\\\\hline\")"
   ]
  },
  {
   "cell_type": "code",
   "execution_count": null,
   "metadata": {},
   "outputs": [],
   "source": [
    "deg = 1\n",
    "search_list = []\n",
    "while True:\n",
    "    pos = bisect.bisect_left(deg_list, deg)\n",
    "    if pos < len(deg_list):\n",
    "        search_list.append((deg, pos))\n",
    "        deg += 2\n",
    "    else:\n",
    "        break"
   ]
  },
  {
   "cell_type": "code",
   "execution_count": null,
   "metadata": {},
   "outputs": [],
   "source": [
    "print(\"\\\\hline\")\n",
    "text = \" & \".join(str(i[0]) for i in search_list[:10]) + \" \\\\\\\\\"\n",
    "print(text)\n",
    "print(\"\\\\hline\")\n",
    "text = \" & \".join(str(i[1]) for i in search_list[:10]) + \" \\\\\\\\\"\n",
    "print(text)\n",
    "print(\"\\\\hline\")\n",
    "text = \" & \".join(str(i[0]) for i in search_list[10:20]) + \" \\\\\\\\\"\n",
    "print(text)\n",
    "print(\"\\\\hline\")\n",
    "text = \" & \".join(str(i[1]) for i in search_list[10:20]) + \" \\\\\\\\\"\n",
    "print(text)\n",
    "print(\"\\\\hline\")"
   ]
  },
  {
   "cell_type": "code",
   "execution_count": null,
   "metadata": {},
   "outputs": [],
   "source": [
    "num = 16\n",
    "deg = 11"
   ]
  },
  {
   "cell_type": "code",
   "execution_count": null,
   "metadata": {},
   "outputs": [],
   "source": [
    "mat, int_ = mat_interval_cheb(num, deg)"
   ]
  },
  {
   "cell_type": "code",
   "execution_count": null,
   "metadata": {},
   "outputs": [],
   "source": [
    "res = scipy.optimize.linprog(\n",
    "    numpy.zeros(num+1),\n",
    "    -numpy.eye(num+1),\n",
    "    numpy.zeros(num+1),\n",
    "    mat,\n",
    "    int_,\n",
    "    method=\"simplex\"\n",
    ")"
   ]
  },
  {
   "cell_type": "code",
   "execution_count": null,
   "metadata": {},
   "outputs": [],
   "source": [
    "print(res.message)"
   ]
  },
  {
   "cell_type": "code",
   "execution_count": null,
   "metadata": {},
   "outputs": [],
   "source": [
    "mat, int_ = mat_interval_direct(num, deg)"
   ]
  },
  {
   "cell_type": "code",
   "execution_count": null,
   "metadata": {
    "scrolled": true
   },
   "outputs": [],
   "source": [
    "error = mat.dot(res.x) - int_\n",
    "print(numpy.linalg.norm(error))"
   ]
  }
 ],
 "metadata": {
  "kernelspec": {
   "display_name": "Python 3",
   "language": "python",
   "name": "python3"
  },
  "language_info": {
   "codemirror_mode": {
    "name": "ipython",
    "version": 3
   },
   "file_extension": ".py",
   "mimetype": "text/x-python",
   "name": "python",
   "nbconvert_exporter": "python",
   "pygments_lexer": "ipython3",
   "version": "3.6.5"
  }
 },
 "nbformat": 4,
 "nbformat_minor": 2
}
