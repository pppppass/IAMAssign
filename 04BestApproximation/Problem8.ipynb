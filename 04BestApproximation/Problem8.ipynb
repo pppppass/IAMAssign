{
 "cells": [
  {
   "cell_type": "code",
   "execution_count": null,
   "metadata": {},
   "outputs": [],
   "source": [
    "import matplotlib\n",
    "\n",
    "from matplotlib import rc\n",
    "\n",
    "rc(\"text\", usetex=True)\n",
    "rc(\"font\", family=\"serif\")"
   ]
  },
  {
   "cell_type": "code",
   "execution_count": null,
   "metadata": {},
   "outputs": [],
   "source": [
    "import numpy\n",
    "import scipy.optimize\n",
    "import sympy\n",
    "\n",
    "from matplotlib import pyplot"
   ]
  },
  {
   "cell_type": "code",
   "execution_count": null,
   "metadata": {},
   "outputs": [],
   "source": [
    "def best_unif_app_dis_coef(func, ctrl):\n",
    "    n = ctrl.size - 1\n",
    "    \n",
    "    lst = [ctrl**i for i in range(n)] + [(-1)**numpy.arange(n+1)]\n",
    "    a = numpy.vstack(lst).transpose()\n",
    "    \n",
    "    b = func(ctrl)\n",
    "    \n",
    "    x = numpy.linalg.solve(a, b)\n",
    "    \n",
    "    c, d = x[:n], x[n]\n",
    "    \n",
    "    return c, d"
   ]
  },
  {
   "cell_type": "code",
   "execution_count": null,
   "metadata": {},
   "outputs": [],
   "source": [
    "def poly_comb(coefficient):\n",
    "    def poly(x):\n",
    "        return numpy.sum(c * x**i for i, c in enumerate(coefficient))\n",
    "    \n",
    "    return poly"
   ]
  },
  {
   "cell_type": "code",
   "execution_count": null,
   "metadata": {},
   "outputs": [],
   "source": [
    "def plot_func(func, left=-1.0, right=1.0, num=1000, ax=pyplot, **kwargs):\n",
    "    x = numpy.linspace(left, right, num)\n",
    "    y = func(x)\n",
    "    ax.plot(x, y, **kwargs)"
   ]
  },
  {
   "cell_type": "code",
   "execution_count": null,
   "metadata": {},
   "outputs": [],
   "source": [
    "def func(x):\n",
    "    return numpy.abs(x**3)"
   ]
  },
  {
   "cell_type": "code",
   "execution_count": null,
   "metadata": {},
   "outputs": [],
   "source": [
    "fig = pyplot.figure(figsize=(6., 4.))\n",
    "ax = fig.add_subplot(1, 1, 1)\n",
    "\n",
    "ct = numpy.cos(numpy.linspace(0.0, numpy.pi, 7))[::-1]\n",
    "\n",
    "n = len(ct) - 1\n",
    "\n",
    "plot_func(func, ax=ax, label=\"$f$\")\n",
    "\n",
    "for i in range(5):\n",
    "    c, d = best_unif_app_dis_coef(func, ct)\n",
    "    \n",
    "    p = poly_comb(c)\n",
    "    \n",
    "    plot_func(p, ax=ax, label=\"$p_{}$\".format(i+1))\n",
    "\n",
    "    xi = [-1.0] + [scipy.optimize.brentq(\n",
    "        lambda x: p(x) - func(x),\n",
    "        ct[i], ct[i+1]\n",
    "    ) for i in range(n)] + [1.0]\n",
    "\n",
    "    sig = (-1) ** numpy.arange(n+1)\n",
    "    if numpy.signbit(d):\n",
    "        sig *= -1\n",
    "    \n",
    "    opt = [scipy.optimize.minimize(\n",
    "        lambda x: sig[i] * (p(x) - func(x)),\n",
    "        (xi[i] + xi[i+1]) / 2.0,\n",
    "        method=\"L-BFGS-B\",\n",
    "        bounds=((xi[i], xi[i+1]),)\n",
    "    ) for i in range(n+1)]\n",
    "    \n",
    "    err_list = [float(o[\"fun\"]) for o in opt]\n",
    "    err = max(err_list) - min(err_list)\n",
    "    print(\"Step {0}, error {1}\".format(i, err))\n",
    "    if err < 1.0e-4:\n",
    "        break\n",
    "    \n",
    "    ct = numpy.hstack([o[\"x\"] for o in opt])\n",
    "\n",
    "ax.set_xlim(-1.1, 1.1)\n",
    "ax.set_ylim(-0.1, 1.1)\n",
    "\n",
    "pyplot.legend()\n",
    "\n",
    "pyplot.savefig(\"Figure01.pdf\")\n",
    "pyplot.savefig(\"Figure01.pgf\")\n",
    "pyplot.show()\n",
    "pyplot.close()"
   ]
  },
  {
   "cell_type": "code",
   "execution_count": null,
   "metadata": {
    "scrolled": true
   },
   "outputs": [],
   "source": [
    "fig = pyplot.figure(figsize=(6., 4.))\n",
    "ax = fig.add_subplot(1, 1, 1)\n",
    "\n",
    "plot_func(lambda x: p(x) - func(x), ax=ax, label=\"$ p_{} - f $\".format(i+1))\n",
    "\n",
    "ax.set_xlim(-1.1, 1.1)\n",
    "ax.set_ylim(-0.015, 0.015)\n",
    "\n",
    "pyplot.legend()\n",
    "\n",
    "pyplot.savefig(\"Figure02.pdf\")\n",
    "pyplot.savefig(\"Figure02.pgf\")\n",
    "pyplot.show()\n",
    "pyplot.close()"
   ]
  },
  {
   "cell_type": "code",
   "execution_count": null,
   "metadata": {},
   "outputs": [],
   "source": [
    "print(\", \".join([str(p) for p in ct]))"
   ]
  },
  {
   "cell_type": "code",
   "execution_count": null,
   "metadata": {},
   "outputs": [],
   "source": [
    "sympy.init_printing()\n",
    "\n",
    "x = sympy.Symbol(\"x\")\n",
    "\n",
    "poly = sum([x**deg * coe for deg, coe in enumerate(c)])\n",
    "\n",
    "print(sympy.latex(poly))"
   ]
  }
 ],
 "metadata": {
  "kernelspec": {
   "display_name": "Python 3",
   "language": "python",
   "name": "python3"
  },
  "language_info": {
   "codemirror_mode": {
    "name": "ipython",
    "version": 3
   },
   "file_extension": ".py",
   "mimetype": "text/x-python",
   "name": "python",
   "nbconvert_exporter": "python",
   "pygments_lexer": "ipython3",
   "version": "3.6.5"
  },
  "varInspector": {
   "cols": {
    "lenName": 16,
    "lenType": 16,
    "lenVar": 40
   },
   "kernels_config": {
    "python": {
     "delete_cmd_postfix": "",
     "delete_cmd_prefix": "del ",
     "library": "var_list.py",
     "varRefreshCmd": "print(var_dic_list())"
    },
    "r": {
     "delete_cmd_postfix": ") ",
     "delete_cmd_prefix": "rm(",
     "library": "var_list.r",
     "varRefreshCmd": "cat(var_dic_list()) "
    }
   },
   "position": {
    "height": "392px",
    "left": "886.08px",
    "right": "20px",
    "top": "174.986px",
    "width": "355px"
   },
   "types_to_exclude": [
    "module",
    "function",
    "builtin_function_or_method",
    "instance",
    "_Feature"
   ],
   "window_display": false
  }
 },
 "nbformat": 4,
 "nbformat_minor": 2
}
