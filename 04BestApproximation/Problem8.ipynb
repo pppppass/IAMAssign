{
 "cells": [
  {
   "cell_type": "code",
   "execution_count": null,
   "metadata": {},
   "outputs": [],
   "source": [
    "import exputils.font\n",
    "\n",
    "exputils.font.font_use_tex()"
   ]
  },
  {
   "cell_type": "code",
   "execution_count": null,
   "metadata": {},
   "outputs": [],
   "source": [
    "import numpy\n",
    "import scipy.optimize\n",
    "import sympy"
   ]
  },
  {
   "cell_type": "code",
   "execution_count": null,
   "metadata": {},
   "outputs": [],
   "source": [
    "import exputils.figure\n",
    "\n",
    "fh = exputils.figure.FigureHandler(save=True, fmt=\"Figure-{ctr:03}.pgf\")"
   ]
  },
  {
   "cell_type": "code",
   "execution_count": null,
   "metadata": {},
   "outputs": [],
   "source": [
    "def unif_approx_disc_coef(func, ctrl):\n",
    "    \n",
    "    n = ctrl.size - 1\n",
    "    \n",
    "    lst = [ctrl**i for i in range(n)] + [(-1)**numpy.arange(n+1)]\n",
    "    a = numpy.vstack(lst).transpose()\n",
    "    \n",
    "    b = func(ctrl)\n",
    "    \n",
    "    x = numpy.linalg.solve(a, b)\n",
    "    \n",
    "    c, d = x[:n], x[n]\n",
    "    \n",
    "    return c, d"
   ]
  },
  {
   "cell_type": "code",
   "execution_count": null,
   "metadata": {},
   "outputs": [],
   "source": [
    "def coef_poly(coefficient):\n",
    "    def poly(x):\n",
    "        return numpy.sum(c * x**i for i, c in enumerate(coefficient))\n",
    "    return poly"
   ]
  },
  {
   "cell_type": "code",
   "execution_count": null,
   "metadata": {},
   "outputs": [],
   "source": [
    "def plot_func(func, left=-1.0, right=1.0, num=1000, fh=fh, **kwargs):\n",
    "    x = numpy.linspace(left, right, num)\n",
    "    y = func(x)\n",
    "    fh.ax.plot(x, y, **kwargs)"
   ]
  },
  {
   "cell_type": "code",
   "execution_count": null,
   "metadata": {},
   "outputs": [],
   "source": [
    "def cheb_exts(n, left=-1.0, right=1.0):\n",
    "    x = numpy.cos(numpy.linspace(0.0, numpy.pi, n+1))[::-1]\n",
    "    x = x * (right - left) / 2.0 + (right + left) / 2.0\n",
    "    return x"
   ]
  },
  {
   "cell_type": "code",
   "execution_count": null,
   "metadata": {},
   "outputs": [],
   "source": [
    "def f(t):\n",
    "    return numpy.abs(t**3)"
   ]
  },
  {
   "cell_type": "code",
   "execution_count": null,
   "metadata": {},
   "outputs": [],
   "source": [
    "n = 6\n",
    "\n",
    "its = 5\n",
    "\n",
    "eps = 1.0e-4"
   ]
  },
  {
   "cell_type": "code",
   "execution_count": null,
   "metadata": {},
   "outputs": [],
   "source": [
    "fh.new_fig()\n",
    "fh.new_ax()\n",
    "\n",
    "x = cheb_exts(n)\n",
    "\n",
    "plot_func(f, fh=fh, label=\"$f$\")\n",
    "\n",
    "for i in range(its):\n",
    "    c, d = unif_approx_disc_coef(f, x)\n",
    "    \n",
    "    p = coef_poly(c)\n",
    "    \n",
    "    plot_func(p, fh=fh, label=\"$p_{}$\".format(i+1))\n",
    "\n",
    "    xi = [-1.0] + [scipy.optimize.brentq(\n",
    "        lambda t: p(t) - f(t),\n",
    "        x[i], x[i+1]\n",
    "    ) for i in range(n)] + [1.0]\n",
    "\n",
    "    sig = (-1) ** numpy.arange(n+1)\n",
    "    if numpy.signbit(d):\n",
    "        sig *= -1\n",
    "    \n",
    "    opt = [scipy.optimize.minimize(\n",
    "        lambda t: sig[i] * (p(t) - f(t)),\n",
    "        (xi[i] + xi[i+1]) / 2.0,\n",
    "        method=\"L-BFGS-B\", ###\n",
    "        bounds=((xi[i], xi[i+1]),)\n",
    "    ) for i in range(n+1)]\n",
    "    \n",
    "    err_list = [float(o[\"fun\"]) for o in opt]\n",
    "    err = max(err_list) - min(err_list)\n",
    "    print(\"Step {0}, error {1}\".format(i, err))\n",
    "    if err < eps:\n",
    "        break\n",
    "    \n",
    "    x = numpy.hstack([o[\"x\"] for o in opt])\n",
    "\n",
    "fh.set_box(-1.1, 1.1, -0.1, 1.1, grid=True)\n",
    "\n",
    "fh.ax.legend()\n",
    "\n",
    "fh.disp_fig()\n",
    "fh.close_fig()"
   ]
  },
  {
   "cell_type": "code",
   "execution_count": null,
   "metadata": {
    "scrolled": true
   },
   "outputs": [],
   "source": [
    "fh.new_fig()\n",
    "fh.new_ax()\n",
    "\n",
    "plot_func(lambda t: p(t) - f(t), fh=fh, label=\"$ p_{} - f $\".format(i+1))\n",
    "\n",
    "fh.set_box(-1.1, 1.1, -0.015, 0.015, grid=True)\n",
    "\n",
    "fh.ax.legend()\n",
    "\n",
    "fh.disp_fig()\n",
    "fh.close_fig()"
   ]
  },
  {
   "cell_type": "code",
   "execution_count": null,
   "metadata": {},
   "outputs": [],
   "source": [
    "print(\", \".join([str(p) for p in x]))"
   ]
  },
  {
   "cell_type": "code",
   "execution_count": null,
   "metadata": {},
   "outputs": [],
   "source": [
    "sympy.init_printing()\n",
    "\n",
    "x = sympy.Symbol(\"x\")\n",
    "\n",
    "poly = sum([x**deg * coe for deg, coe in enumerate(c)])"
   ]
  },
  {
   "cell_type": "code",
   "execution_count": null,
   "metadata": {},
   "outputs": [],
   "source": [
    "poly"
   ]
  }
 ],
 "metadata": {
  "kernelspec": {
   "display_name": "Python 3",
   "language": "python",
   "name": "python3"
  },
  "language_info": {
   "codemirror_mode": {
    "name": "ipython",
    "version": 3
   },
   "file_extension": ".py",
   "mimetype": "text/x-python",
   "name": "python",
   "nbconvert_exporter": "python",
   "pygments_lexer": "ipython3",
   "version": "3.6.5"
  },
  "varInspector": {
   "cols": {
    "lenName": 16,
    "lenType": 16,
    "lenVar": 40
   },
   "kernels_config": {
    "python": {
     "delete_cmd_postfix": "",
     "delete_cmd_prefix": "del ",
     "library": "var_list.py",
     "varRefreshCmd": "print(var_dic_list())"
    },
    "r": {
     "delete_cmd_postfix": ") ",
     "delete_cmd_prefix": "rm(",
     "library": "var_list.r",
     "varRefreshCmd": "cat(var_dic_list()) "
    }
   },
   "position": {
    "height": "392px",
    "left": "886.08px",
    "right": "20px",
    "top": "174.986px",
    "width": "355px"
   },
   "types_to_exclude": [
    "module",
    "function",
    "builtin_function_or_method",
    "instance",
    "_Feature"
   ],
   "window_display": false
  }
 },
 "nbformat": 4,
 "nbformat_minor": 2
}
