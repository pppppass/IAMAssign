{
 "cells": [
  {
   "cell_type": "code",
   "execution_count": null,
   "metadata": {},
   "outputs": [],
   "source": [
    "import numpy"
   ]
  },
  {
   "cell_type": "code",
   "execution_count": null,
   "metadata": {},
   "outputs": [],
   "source": [
    "def func(x):\n",
    "    return numpy.exp(x**2)"
   ]
  },
  {
   "cell_type": "code",
   "execution_count": null,
   "metadata": {},
   "outputs": [],
   "source": [
    "def forward_euler(end, div):\n",
    "    step = end / div\n",
    "    y = 0.0\n",
    "    for i in range(div):\n",
    "        x = i * step\n",
    "        y += func(x) * step\n",
    "    return y"
   ]
  },
  {
   "cell_type": "code",
   "execution_count": null,
   "metadata": {},
   "outputs": [],
   "source": [
    "def backward_euler(end, div):\n",
    "    step = end / div\n",
    "    y = 0.0\n",
    "    for i in range(div):\n",
    "        x = (i+1) * step\n",
    "        y += func(x) * step\n",
    "    return y"
   ]
  },
  {
   "cell_type": "code",
   "execution_count": null,
   "metadata": {},
   "outputs": [],
   "source": [
    "def trapezoid_euler(end, div):\n",
    "    step = end / div\n",
    "    y = 0.0\n",
    "    for i in range(div):\n",
    "        x = i * step\n",
    "        x_ = (i+1) * step\n",
    "        y += (func(x) + func(x_)) * step / 2.0\n",
    "    return y"
   ]
  },
  {
   "cell_type": "code",
   "execution_count": null,
   "metadata": {},
   "outputs": [],
   "source": [
    "table = []"
   ]
  },
  {
   "cell_type": "code",
   "execution_count": null,
   "metadata": {},
   "outputs": [],
   "source": [
    "for end in [0.5, 1.0, 1.5, 2.0]:\n",
    "    for div in [5, 10, 20, 50]:\n",
    "        table.append(forward_euler(end, div))\n",
    "        table.append(backward_euler(end, div))\n",
    "        table.append(trapezoid_euler(end, div))"
   ]
  },
  {
   "cell_type": "code",
   "execution_count": null,
   "metadata": {},
   "outputs": [],
   "source": [
    "print(\"HL\")\n",
    "for i in range(16):\n",
    "    print(\"{0[0]:.5f} CR {0[1]:.5f} CR {0[2]:.5f}\".format(table[3*i:3*i+3]))\n",
    "    print(\"HL\")"
   ]
  },
  {
   "cell_type": "code",
   "execution_count": null,
   "metadata": {},
   "outputs": [],
   "source": []
  }
 ],
 "metadata": {
  "kernelspec": {
   "display_name": "Python 3",
   "language": "python",
   "name": "python3"
  },
  "language_info": {
   "codemirror_mode": {
    "name": "ipython",
    "version": 3
   },
   "file_extension": ".py",
   "mimetype": "text/x-python",
   "name": "python",
   "nbconvert_exporter": "python",
   "pygments_lexer": "ipython3",
   "version": "3.6.5"
  }
 },
 "nbformat": 4,
 "nbformat_minor": 2
}
