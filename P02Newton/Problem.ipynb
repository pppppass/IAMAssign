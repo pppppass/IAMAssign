{
 "cells": [
  {
   "cell_type": "code",
   "execution_count": null,
   "metadata": {},
   "outputs": [],
   "source": [
    "import numpy\n",
    "import utils"
   ]
  },
  {
   "cell_type": "code",
   "execution_count": null,
   "metadata": {},
   "outputs": [],
   "source": [
    "def f(x):\n",
    "    return numpy.tanh(x / 2.0) / 2.0"
   ]
  },
  {
   "cell_type": "code",
   "execution_count": null,
   "metadata": {},
   "outputs": [],
   "source": [
    "def f_(x):\n",
    "    return 1.0 / numpy.cosh(x / 2.0)**2 / 4.0"
   ]
  },
  {
   "cell_type": "code",
   "execution_count": null,
   "metadata": {},
   "outputs": [],
   "source": [
    "x0_list = [-2.17731898, -4.0]\n",
    "table = [[], [[] for i in range(5)], [[] for i in range(5)]]"
   ]
  },
  {
   "cell_type": "code",
   "execution_count": null,
   "metadata": {},
   "outputs": [],
   "source": [
    "eps = 1.0e-3"
   ]
  },
  {
   "cell_type": "code",
   "execution_count": null,
   "metadata": {},
   "outputs": [],
   "source": [
    "for x0 in x0_list:\n",
    "     table[0].append(utils.newton(f, f_, x0, eps))"
   ]
  },
  {
   "cell_type": "code",
   "execution_count": null,
   "metadata": {},
   "outputs": [],
   "source": [
    "eps = 1.0e-16"
   ]
  },
  {
   "cell_type": "code",
   "execution_count": null,
   "metadata": {},
   "outputs": [],
   "source": [
    "for x0 in x0_list:\n",
    "    table[2][0].append(x0)\n",
    "    table[1][0].append(utils.newton(f, f_, x0, eps))\n",
    "    f_val = f(x0)\n",
    "    x_hat = utils.ode_explicit(lambda x, t: -f_val / f_(x), 10, x0)\n",
    "    table[2][1].append(x_hat)\n",
    "    table[1][1].append(utils.newton(f, f_, x_hat, eps))\n",
    "    x_hat = utils.ode_implicit_iterative(lambda x, t: -f_val / f_(x), 10, x0, 1.0e-5)\n",
    "    table[2][2].append(x_hat)\n",
    "    table[1][2].append(utils.newton(f, f_, x_hat, eps))\n",
    "    x_hat = utils.ode_trapezoid_iterative(lambda x, t: -f_val / f_(x), 10, x0, 1.0e-5)\n",
    "    table[2][3].append(x_hat)\n",
    "    table[1][3].append(utils.newton(f, f_, x_hat, eps))\n",
    "    x_hat = utils.ode_runge_kutta_4(lambda x, t: -f_val / f_(x), 10, x0)\n",
    "    table[2][4].append(x_hat)\n",
    "    table[1][4].append(utils.newton(f, f_, x_hat, eps))"
   ]
  },
  {
   "cell_type": "code",
   "execution_count": null,
   "metadata": {
    "scrolled": true
   },
   "outputs": [],
   "source": [
    "for i in range(len(x0_list)):\n",
    "    x, ctr, flag = table[0][i]\n",
    "    if flag:\n",
    "        print(\"Succeeded\")\n",
    "    else:\n",
    "        print(\"Failed\")\n",
    "    print(\"{:.8e}, {}\".format(x, ctr))"
   ]
  },
  {
   "cell_type": "code",
   "execution_count": null,
   "metadata": {},
   "outputs": [],
   "source": [
    "print(\"HL\")\n",
    "for i in range(5):\n",
    "    print(\"{:.8e} CR {} CR {:.8e} CR {} LB\".format(*table[1][i][0][:2], *table[1][i][1][:2]))\n",
    "    print(\"HL\")"
   ]
  },
  {
   "cell_type": "code",
   "execution_count": null,
   "metadata": {},
   "outputs": [],
   "source": [
    "print(\"HL\")\n",
    "for i in range(5):\n",
    "    print(\"{:.8e} CR {:8e} CR {:.8e} CR {:8e} LB\".format(table[2][i][0], f(table[2][i][0]), table[2][i][1], f(table[2][i][1])))\n",
    "    print(\"HL\")"
   ]
  }
 ],
 "metadata": {
  "kernelspec": {
   "display_name": "Python 3",
   "language": "python",
   "name": "python3"
  },
  "language_info": {
   "codemirror_mode": {
    "name": "ipython",
    "version": 3
   },
   "file_extension": ".py",
   "mimetype": "text/x-python",
   "name": "python",
   "nbconvert_exporter": "python",
   "pygments_lexer": "ipython3",
   "version": "3.6.5"
  }
 },
 "nbformat": 4,
 "nbformat_minor": 2
}
