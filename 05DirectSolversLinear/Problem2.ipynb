{
 "cells": [
  {
   "cell_type": "code",
   "execution_count": null,
   "metadata": {},
   "outputs": [],
   "source": [
    "import numpy"
   ]
  },
  {
   "cell_type": "code",
   "execution_count": null,
   "metadata": {},
   "outputs": [],
   "source": [
    "def tridiag(n, a, b, c):\n",
    "    mat = numpy.zeros((n, n))\n",
    "    mat[range(n), range(n)] = a\n",
    "    mat[range(n-1), range(1, n)] = b\n",
    "    mat[range(1, n), range(n-1)] = c\n",
    "    return mat"
   ]
  },
  {
   "cell_type": "code",
   "execution_count": null,
   "metadata": {},
   "outputs": [],
   "source": [
    "def gauss_lu(m):\n",
    "    n = m.shape[0]\n",
    "    for i in range(n-1):\n",
    "        m[(i+1):, i] /= m[i, i]\n",
    "        m[(i+1):, (i+1):] -= m[(i+1):, i:(i+1)] * m[i:(i+1), (i+1):]"
   ]
  },
  {
   "cell_type": "code",
   "execution_count": null,
   "metadata": {},
   "outputs": [],
   "source": [
    "def upper_trig_solve(u, y):\n",
    "    n = u.shape[0]\n",
    "    for i in range(n-1, -1, -1):\n",
    "        y[i] /= u[i, i]\n",
    "        y[:i] -= u[:i, i] * y[i]"
   ]
  },
  {
   "cell_type": "code",
   "execution_count": null,
   "metadata": {},
   "outputs": [],
   "source": [
    "def lower_trig_solve_eye(l, y):\n",
    "    n = l.shape[0]\n",
    "    for i in range(n-1):\n",
    "        y[(i+1):] -= l[(i+1):, i] * y[i]"
   ]
  },
  {
   "cell_type": "code",
   "execution_count": null,
   "metadata": {},
   "outputs": [],
   "source": [
    "n_list = [2, 12, 24, 48, 84]\n",
    "\n",
    "res_list = []"
   ]
  },
  {
   "cell_type": "code",
   "execution_count": null,
   "metadata": {},
   "outputs": [],
   "source": [
    "for n in n_list:\n",
    "\n",
    "    m = tridiag(n, 6, 1, 8)\n",
    "\n",
    "    y = numpy.array([7.] + [15.]*(n-2) + [14.])\n",
    "\n",
    "    x = numpy.ones(n)\n",
    "\n",
    "    gauss_lu(m)\n",
    "\n",
    "    lower_trig_solve_eye(m, y)\n",
    "\n",
    "    upper_trig_solve(m, y)\n",
    "    \n",
    "    loss_2 = numpy.linalg.norm(x - y)\n",
    "    loss_inf = numpy.linalg.norm(x - y, numpy.infty)\n",
    "    \n",
    "    print(\"n = {}, 2 norm = {:.5e}, inf norm = {:.5e}\".format(n, loss_2, loss_inf))\n",
    "    \n",
    "    res_list.append([n, loss_2, loss_inf])"
   ]
  },
  {
   "cell_type": "code",
   "execution_count": null,
   "metadata": {},
   "outputs": [],
   "source": [
    "for r in res_list:\n",
    "    print(\"{} & {:.5e} & {:.5e} \\\\\\\\\".format(*r))\n",
    "    print(\"\\\\hline\")"
   ]
  }
 ],
 "metadata": {
  "kernelspec": {
   "display_name": "Python 3",
   "language": "python",
   "name": "python3"
  },
  "language_info": {
   "codemirror_mode": {
    "name": "ipython",
    "version": 3
   },
   "file_extension": ".py",
   "mimetype": "text/x-python",
   "name": "python",
   "nbconvert_exporter": "python",
   "pygments_lexer": "ipython3",
   "version": "3.6.5"
  }
 },
 "nbformat": 4,
 "nbformat_minor": 2
}
