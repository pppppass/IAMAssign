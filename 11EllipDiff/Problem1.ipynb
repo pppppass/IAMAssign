{
 "cells": [
  {
   "cell_type": "code",
   "execution_count": null,
   "metadata": {},
   "outputs": [],
   "source": [
    "import matplotlib as mpl\n",
    "mpl.use(\"pgf\")\n",
    "mpl.rcParams[\"text.usetex\"] = True\n",
    "mpl.rcParams[\"font.family\"] = \"serif\""
   ]
  },
  {
   "cell_type": "code",
   "execution_count": null,
   "metadata": {},
   "outputs": [],
   "source": [
    "import numpy\n",
    "\n",
    "from matplotlib import pyplot"
   ]
  },
  {
   "cell_type": "code",
   "execution_count": null,
   "metadata": {},
   "outputs": [],
   "source": [
    "n = 64\n",
    "k_list = [1, 3, 6, 10, 30, 60]\n",
    "iters = 100\n",
    "color_list = [\"r\", \"g\", \"b\", \"c\", \"y\", \"m\"]"
   ]
  },
  {
   "cell_type": "code",
   "execution_count": null,
   "metadata": {},
   "outputs": [],
   "source": [
    "table = [[[] for i in range(len(k_list))], [[], []]]"
   ]
  },
  {
   "cell_type": "code",
   "execution_count": null,
   "metadata": {},
   "outputs": [],
   "source": [
    "mat = numpy.zeros((n-1, n-1))\n",
    "x, y = numpy.indices((n-1, n-1))\n",
    "mat[x == y] = 2\n",
    "mat[x == y-1] = -1\n",
    "mat[x == y+1] = -1"
   ]
  },
  {
   "cell_type": "code",
   "execution_count": null,
   "metadata": {},
   "outputs": [],
   "source": [
    "def gauss_seidel(mat, vec):\n",
    "    for i in range(len(vec)):\n",
    "        vec[i] = -(vec[:i].dot(mat[i, :i]) + vec[i+1:].dot(mat[i, i+1:])) / mat[i, i]"
   ]
  },
  {
   "cell_type": "code",
   "execution_count": null,
   "metadata": {},
   "outputs": [],
   "source": [
    "for i in range(len(k_list)):\n",
    "    vec = numpy.sin(numpy.linspace(0.0, k_list[i] * numpy.pi, n+1))\n",
    "    for j in range(iters):\n",
    "        table[0][i].append(numpy.linalg.norm(vec, numpy.inf))\n",
    "        gauss_seidel(mat, vec[1:-1])\n",
    "        if j == 0:\n",
    "            table[1][0].append(vec.copy())\n",
    "        elif j == 5:\n",
    "            table[1][1].append(vec.copy())"
   ]
  },
  {
   "cell_type": "code",
   "execution_count": null,
   "metadata": {},
   "outputs": [],
   "source": [
    "pyplot.figure(figsize=(8.0, 6.0))\n",
    "for i in range(len(k_list)):\n",
    "    pyplot.plot(range(iters), table[0][i], label=\"$ k = {} $\".format(k_list[i]))\n",
    "pyplot.legend()\n",
    "pyplot.xlabel(\"Iterations $t$\")\n",
    "pyplot.ylabel(\"Error\")\n",
    "pyplot.savefig(\"Figures/Figure01.pgf\")\n",
    "pyplot.show()"
   ]
  },
  {
   "cell_type": "code",
   "execution_count": null,
   "metadata": {},
   "outputs": [],
   "source": [
    "pyplot.figure(figsize=(8.0, 6.0))\n",
    "for i in range(len(k_list)):\n",
    "    samp = numpy.linspace(0.0, 1.0, n+1)\n",
    "    pyplot.plot(samp, table[1][0][i], color=\"C\"+str(i), label=\"$ k = {} $\".format(k_list[i]))\n",
    "    pyplot.plot(samp, table[1][1][i], color=\"C\"+str(i), linestyle=\"dashed\")\n",
    "pyplot.legend()\n",
    "pyplot.xlabel(\"Position $x$\")\n",
    "pyplot.ylabel(\"Value $u$\")\n",
    "pyplot.savefig(\"Figures/Figure02.pgf\")\n",
    "pyplot.show()"
   ]
  }
 ],
 "metadata": {
  "kernelspec": {
   "display_name": "Python 3",
   "language": "python",
   "name": "python3"
  },
  "language_info": {
   "codemirror_mode": {
    "name": "ipython",
    "version": 3
   },
   "file_extension": ".py",
   "mimetype": "text/x-python",
   "name": "python",
   "nbconvert_exporter": "python",
   "pygments_lexer": "ipython3",
   "version": "3.6.5"
  }
 },
 "nbformat": 4,
 "nbformat_minor": 2
}
