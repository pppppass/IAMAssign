{
 "cells": [
  {
   "cell_type": "code",
   "execution_count": null,
   "metadata": {},
   "outputs": [],
   "source": [
    "import exputils.font\n",
    "\n",
    "exputils.font.font_use_tex()"
   ]
  },
  {
   "cell_type": "code",
   "execution_count": null,
   "metadata": {},
   "outputs": [],
   "source": [
    "import numpy"
   ]
  },
  {
   "cell_type": "code",
   "execution_count": null,
   "metadata": {},
   "outputs": [],
   "source": [
    "import exputils.figure\n",
    "\n",
    "fh = exputils.figure.FigureHandler(save=True, fmt=\"Figure-{ctr:03}.pgf\")\n",
    "fh.ctr = 4"
   ]
  },
  {
   "cell_type": "code",
   "execution_count": null,
   "metadata": {},
   "outputs": [],
   "source": [
    "def newton_intp_coef(x, y):\n",
    "\n",
    "    n = x.size\n",
    "    c = numpy.zeros(n)\n",
    "\n",
    "    c[0] = y[0]\n",
    "    for i in range(1, n):\n",
    "        u, v = 0., 1.\n",
    "        for j in range(i-1, -1, -1):\n",
    "            u = u * (x[i] - x[j]) + c[j]\n",
    "            v = v * (x[i] - x[j])\n",
    "        c[i] = (y[i] - u) / v\n",
    "\n",
    "    return c"
   ]
  },
  {
   "cell_type": "code",
   "execution_count": null,
   "metadata": {},
   "outputs": [],
   "source": [
    "def horner_poly(x, c):\n",
    "\n",
    "    n = x.size\n",
    "\n",
    "    def poly(u):\n",
    "\n",
    "        m = u.size\n",
    "        v = numpy.zeros(m)\n",
    "\n",
    "        for i in range(n-1, -1, -1):\n",
    "            v = v * (u - x[i]) + c[i]\n",
    "\n",
    "        return v\n",
    "\n",
    "    return poly"
   ]
  },
  {
   "cell_type": "code",
   "execution_count": null,
   "metadata": {},
   "outputs": [],
   "source": [
    "def cheb_zeros(n, left=-1.0, right=1.0):\n",
    "    x = numpy.cos(numpy.pi / 2. / n * numpy.arange(1, 2*n+1, 2))\n",
    "    x = x * (right - left) / 2.0 + (right + left) / 2.0\n",
    "    return x"
   ]
  },
  {
   "cell_type": "code",
   "execution_count": null,
   "metadata": {},
   "outputs": [],
   "source": [
    "def plot_func(func, left=-1.0, right=1.0, num=1000, fh=fh, **kwargs):\n",
    "    x = numpy.linspace(left, right, num)\n",
    "    y = func(x)\n",
    "    fh.ax.plot(x, y, **kwargs)"
   ]
  },
  {
   "cell_type": "code",
   "execution_count": null,
   "metadata": {},
   "outputs": [],
   "source": [
    "fh.new_fig()\n",
    "fh.new_ax()\n",
    "\n",
    "for n in [1, 3, 5, 7, 9]:\n",
    "    \n",
    "    x = cheb_zeros(n+1, -5.0, 5.0)\n",
    "    y = 1. / (1. + x**2)\n",
    "    \n",
    "    c = newton_intp_coef(x, y)\n",
    "    \n",
    "    p = horner_poly(x, c)\n",
    "    plot_func(p, -6., 6., label=\"$ n = {} $\".format(n))\n",
    "\n",
    "plot_func(lambda x: 1. / (1. + x**2), -6., 6., label=\"$f_1$\")\n",
    "\n",
    "fh.set_box(-6., 6., -0.5, 1.5, grid=True)\n",
    "\n",
    "fh.ax.legend()\n",
    "\n",
    "fh.disp_fig()\n",
    "\n",
    "fh.close_fig()"
   ]
  },
  {
   "cell_type": "code",
   "execution_count": null,
   "metadata": {},
   "outputs": [],
   "source": [
    "fh.new_fig()\n",
    "fh.new_ax()\n",
    "\n",
    "for n in [2, 4, 6, 8, 10]:\n",
    "\n",
    "    x = cheb_zeros(n+1, -5.0, 5.0)\n",
    "    y = 1. / (1. + x**2)\n",
    "\n",
    "    c = newton_intp_coef(x, y)\n",
    "\n",
    "    p = horner_poly(x, c)\n",
    "    plot_func(p, -6., 6., label=\"$ n = {} $\".format(n))\n",
    "\n",
    "plot_func(lambda x: 1. / (1. + x**2), -6., 6., label=\"$f_1$\")\n",
    "\n",
    "fh.set_box(-6., 6., -0.5, 1.5, grid=True)\n",
    "\n",
    "fh.ax.legend()\n",
    "\n",
    "fh.disp_fig()\n",
    "\n",
    "fh.close_fig()"
   ]
  },
  {
   "cell_type": "code",
   "execution_count": null,
   "metadata": {},
   "outputs": [],
   "source": [
    "fh.new_fig()\n",
    "fh.new_ax()\n",
    "\n",
    "for n in [1, 3, 5, 7, 9]:\n",
    "\n",
    "    x = cheb_zeros(n+1, -5.0, 5.0)\n",
    "    y = numpy.exp(-x**2)\n",
    "\n",
    "    c = newton_intp_coef(x, y)\n",
    "\n",
    "    p = horner_poly(x, c)\n",
    "    plot_func(p, -6., 6., label=\"$ n = {} $\".format(n))\n",
    "\n",
    "plot_func(lambda x: numpy.exp(-x**2), -6., 6., label=\"$f_2$\")\n",
    "\n",
    "fh.set_box(-6., 6., -0.5, 1.5, grid=True)\n",
    "\n",
    "fh.ax.legend()\n",
    "\n",
    "fh.disp_fig()\n",
    "\n",
    "fh.close_fig()"
   ]
  },
  {
   "cell_type": "code",
   "execution_count": null,
   "metadata": {},
   "outputs": [],
   "source": [
    "fh.new_fig()\n",
    "fh.new_ax()\n",
    "\n",
    "for n in [2, 4, 6, 8, 10]:\n",
    "    \n",
    "    x = cheb_zeros(n+1, -5.0, 5.0)\n",
    "    y = numpy.exp(-x**2)\n",
    "    \n",
    "    c = newton_intp_coef(x, y)\n",
    "    \n",
    "    p = horner_poly(x, c)\n",
    "    plot_func(p, -6., 6., label=\"$ n = {} $\".format(n))\n",
    "\n",
    "plot_func(lambda x: numpy.exp(-x**2), -6., 6., label=\"$f_2$\")\n",
    "\n",
    "fh.set_box(-6., 6., -0.5, 1.5, grid=True)\n",
    "\n",
    "fh.ax.legend()\n",
    "\n",
    "fh.disp_fig()\n",
    "\n",
    "fh.close_fig()"
   ]
  }
 ],
 "metadata": {
  "kernelspec": {
   "display_name": "Python 3",
   "language": "python",
   "name": "python3"
  },
  "language_info": {
   "codemirror_mode": {
    "name": "ipython",
    "version": 3
   },
   "file_extension": ".py",
   "mimetype": "text/x-python",
   "name": "python",
   "nbconvert_exporter": "python",
   "pygments_lexer": "ipython3",
   "version": "3.6.5"
  },
  "varInspector": {
   "cols": {
    "lenName": 16,
    "lenType": 16,
    "lenVar": 40
   },
   "kernels_config": {
    "python": {
     "delete_cmd_postfix": "",
     "delete_cmd_prefix": "del ",
     "library": "var_list.py",
     "varRefreshCmd": "print(var_dic_list())"
    },
    "r": {
     "delete_cmd_postfix": ") ",
     "delete_cmd_prefix": "rm(",
     "library": "var_list.r",
     "varRefreshCmd": "cat(var_dic_list()) "
    }
   },
   "types_to_exclude": [
    "module",
    "function",
    "builtin_function_or_method",
    "instance",
    "_Feature"
   ],
   "window_display": false
  }
 },
 "nbformat": 4,
 "nbformat_minor": 2
}
