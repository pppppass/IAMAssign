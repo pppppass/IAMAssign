{
 "cells": [
  {
   "cell_type": "code",
   "execution_count": null,
   "metadata": {},
   "outputs": [],
   "source": [
    "import matplotlib\n",
    "\n",
    "matplotlib.use(\"pgf\")\n",
    "\n",
    "from matplotlib import rc\n",
    "\n",
    "rc(\"text\", usetex=True)\n",
    "rc(\"font\", family=\"serif\")"
   ]
  },
  {
   "cell_type": "code",
   "execution_count": null,
   "metadata": {},
   "outputs": [],
   "source": [
    "import numpy\n",
    "\n",
    "from matplotlib import pyplot\n",
    "\n",
    "from newton_interpolation import calc_newton, calc_value"
   ]
  },
  {
   "cell_type": "code",
   "execution_count": null,
   "metadata": {},
   "outputs": [],
   "source": [
    "def chebyshev_zeros(n, s):\n",
    "    x = numpy.cos(numpy.pi / 2. / n * numpy.arange(1, 2*n+1, 2))\n",
    "    x = s * x\n",
    "    return x"
   ]
  },
  {
   "cell_type": "code",
   "execution_count": null,
   "metadata": {},
   "outputs": [],
   "source": [
    "figsize = (6., 4.)"
   ]
  },
  {
   "cell_type": "code",
   "execution_count": null,
   "metadata": {},
   "outputs": [],
   "source": [
    "fig = pyplot.figure(figsize=figsize)\n",
    "ax = fig.add_subplot(1, 1, 1)\n",
    "\n",
    "for n in [1, 3, 5, 7, 9, 11]:\n",
    "    \n",
    "    x = chebyshev_zeros(n+1, 5.)\n",
    "    y = 1. / (1. + x**2)\n",
    "    \n",
    "    c = calc_newton(x, y)\n",
    "    \n",
    "    u = numpy.linspace(-6., 6., 1000)\n",
    "    v = calc_value(x, c, u)\n",
    "    \n",
    "    ax.plot(u, v, label=(\"$T_{{{}}}$\".format(n)))\n",
    "\n",
    "x = numpy.linspace(-6., 6., 1000)\n",
    "y = 1. / (1. + x**2)\n",
    "ax.plot(x, y, label=(\"$f_1$\"))\n",
    "\n",
    "ax.grid()\n",
    "ax.set_xlim(-6., 6.)\n",
    "ax.set_ylim(-0.5, 1.5)\n",
    "\n",
    "pyplot.legend()\n",
    "\n",
    "pyplot.savefig(\"Figure05.pgf\")\n",
    "pyplot.savefig(\"Figure05.pdf\")\n",
    "pyplot.show()\n",
    "pyplot.close()"
   ]
  },
  {
   "cell_type": "code",
   "execution_count": null,
   "metadata": {},
   "outputs": [],
   "source": [
    "fig = pyplot.figure(figsize=figsize)\n",
    "ax = fig.add_subplot(1, 1, 1)\n",
    "\n",
    "for n in [2, 4, 6, 8, 10, 12]:\n",
    "    \n",
    "    x = chebyshev_zeros(n+1, 5.)\n",
    "    y = 1. / (1. + x**2)\n",
    "    \n",
    "    c = calc_newton(x, y)\n",
    "    \n",
    "    u = numpy.linspace(-6., 6., 1000)\n",
    "    v = calc_value(x, c, u)\n",
    "    \n",
    "    ax.plot(u, v, label=(\"$T_{{{}}}$\".format(n)))\n",
    "\n",
    "x = numpy.linspace(-6., 6., 1000)\n",
    "y = 1. / (1. + x**2)\n",
    "ax.plot(x, y, label=(\"$f_1$\"))\n",
    "\n",
    "ax.grid()\n",
    "ax.set_xlim(-6., 6.)\n",
    "ax.set_ylim(-0.5, 1.5)\n",
    "\n",
    "pyplot.legend()\n",
    "\n",
    "pyplot.savefig(\"Figure06.pgf\")\n",
    "pyplot.savefig(\"Figure06.pdf\")\n",
    "pyplot.show()\n",
    "pyplot.close()"
   ]
  },
  {
   "cell_type": "code",
   "execution_count": null,
   "metadata": {},
   "outputs": [],
   "source": [
    "fig = pyplot.figure(figsize=figsize)\n",
    "ax = fig.add_subplot(1, 1, 1)\n",
    "\n",
    "for n in [1, 3, 5, 7, 9, 11]:\n",
    "    \n",
    "    x = chebyshev_zeros(n+1, 5.)\n",
    "    y = numpy.exp(-x**2)\n",
    "    \n",
    "    c = calc_newton(x, y)\n",
    "    \n",
    "    u = numpy.linspace(-6., 6., 1000)\n",
    "    v = calc_value(x, c, u)\n",
    "    \n",
    "    ax.plot(u, v, label=(\"$T_{{{}}}$\".format(n)))\n",
    "\n",
    "x = numpy.linspace(-6., 6., 1000)\n",
    "y = numpy.exp(-x**2)\n",
    "ax.plot(x, y, label=(\"$f_2$\"))\n",
    "\n",
    "ax.grid()\n",
    "ax.set_xlim(-6., 6.)\n",
    "ax.set_ylim(-0.5, 1.5)\n",
    "\n",
    "pyplot.legend()\n",
    "\n",
    "pyplot.savefig(\"Figure07.pgf\")\n",
    "pyplot.savefig(\"Figure07.pdf\")\n",
    "pyplot.show()\n",
    "pyplot.close()"
   ]
  },
  {
   "cell_type": "code",
   "execution_count": null,
   "metadata": {},
   "outputs": [],
   "source": [
    "fig = pyplot.figure(figsize=figsize)\n",
    "ax = fig.add_subplot(1, 1, 1)\n",
    "\n",
    "for n in [2, 4, 6, 8, 10, 12]:\n",
    "    \n",
    "    x = chebyshev_zeros(n+1, 5.)\n",
    "    y = numpy.exp(-x**2)\n",
    "    \n",
    "    c = calc_newton(x, y)\n",
    "    \n",
    "    u = numpy.linspace(-6., 6., 1000)\n",
    "    v = calc_value(x, c, u)\n",
    "    \n",
    "    ax.plot(u, v, label=(\"$T_{{{}}}$\".format(n)))\n",
    "\n",
    "x = numpy.linspace(-6., 6., 1000)\n",
    "y = numpy.exp(-x**2)\n",
    "ax.plot(x, y, label=(\"$f_2$\"))\n",
    "\n",
    "ax.grid()\n",
    "ax.set_xlim(-6., 6.)\n",
    "ax.set_ylim(-0.5, 1.5)\n",
    "\n",
    "pyplot.legend()\n",
    "\n",
    "pyplot.savefig(\"Figure08.pgf\")\n",
    "pyplot.savefig(\"Figure08.pdf\")\n",
    "pyplot.show()\n",
    "pyplot.close()"
   ]
  },
  {
   "cell_type": "code",
   "execution_count": null,
   "metadata": {},
   "outputs": [],
   "source": []
  }
 ],
 "metadata": {
  "kernelspec": {
   "display_name": "Python 3",
   "language": "python",
   "name": "python3"
  },
  "language_info": {
   "codemirror_mode": {
    "name": "ipython",
    "version": 3
   },
   "file_extension": ".py",
   "mimetype": "text/x-python",
   "name": "python",
   "nbconvert_exporter": "python",
   "pygments_lexer": "ipython3",
   "version": "3.6.5"
  },
  "varInspector": {
   "cols": {
    "lenName": 16,
    "lenType": 16,
    "lenVar": 40
   },
   "kernels_config": {
    "python": {
     "delete_cmd_postfix": "",
     "delete_cmd_prefix": "del ",
     "library": "var_list.py",
     "varRefreshCmd": "print(var_dic_list())"
    },
    "r": {
     "delete_cmd_postfix": ") ",
     "delete_cmd_prefix": "rm(",
     "library": "var_list.r",
     "varRefreshCmd": "cat(var_dic_list()) "
    }
   },
   "types_to_exclude": [
    "module",
    "function",
    "builtin_function_or_method",
    "instance",
    "_Feature"
   ],
   "window_display": false
  }
 },
 "nbformat": 4,
 "nbformat_minor": 2
}
